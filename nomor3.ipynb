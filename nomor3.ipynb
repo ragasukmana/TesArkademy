{
  "nbformat": 4,
  "nbformat_minor": 0,
  "metadata": {
    "colab": {
      "name": "nomor3.ipynb",
      "provenance": [],
      "collapsed_sections": [],
      "include_colab_link": true
    },
    "kernelspec": {
      "name": "python3",
      "display_name": "Python 3"
    }
  },
  "cells": [
    {
      "cell_type": "markdown",
      "metadata": {
        "id": "view-in-github",
        "colab_type": "text"
      },
      "source": [
        "<a href=\"https://colab.research.google.com/github/ragasukmana/TesArkademy/blob/master/nomor3.ipynb\" target=\"_parent\"><img src=\"https://colab.research.google.com/assets/colab-badge.svg\" alt=\"Open In Colab\"/></a>"
      ]
    },
    {
      "cell_type": "code",
      "metadata": {
        "id": "OqewhsRvoz0o",
        "colab_type": "code",
        "colab": {
          "base_uri": "https://localhost:8080/",
          "height": 88
        },
        "outputId": "fce3870e-d81f-4709-9293-67753609c0eb"
      },
      "source": [
        "a = int(input(\"nilai min :\"))\n",
        "b = int(input(\"nilai max :\"))\n",
        "\n",
        "def rules():\n",
        "  nilai = []\n",
        "  for i in range(a,b):\n",
        "    if i % 3 == 0:\n",
        "      nilai.append(\"arka\")\n",
        "    elif i % 7 == 0:\n",
        "      nilai.append(\"demy\")\n",
        "    else:\n",
        "      nilai.append(str(i))\n",
        "  return nilai\n",
        "\n",
        "print(\"hasil :\" + ','.join(rules()))"
      ],
      "execution_count": 73,
      "outputs": [
        {
          "output_type": "stream",
          "text": [
            "nilai min :1\n",
            "nilai max :30\n",
            "hasil :1,2,arka,4,5,arka,demy,8,arka,10,11,arka,13,demy,arka,16,17,arka,19,20,arka,22,23,arka,25,26,arka,demy,29\n"
          ],
          "name": "stdout"
        }
      ]
    }
  ]
}