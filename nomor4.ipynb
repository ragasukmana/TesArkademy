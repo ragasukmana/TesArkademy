{
  "nbformat": 4,
  "nbformat_minor": 0,
  "metadata": {
    "colab": {
      "name": "nomor4.ipynb",
      "provenance": [],
      "collapsed_sections": [],
      "include_colab_link": true
    },
    "kernelspec": {
      "name": "python3",
      "display_name": "Python 3"
    }
  },
  "cells": [
    {
      "cell_type": "markdown",
      "metadata": {
        "id": "view-in-github",
        "colab_type": "text"
      },
      "source": [
        "<a href=\"https://colab.research.google.com/github/ragasukmana/TesArkademy/blob/master/nomor4.ipynb\" target=\"_parent\"><img src=\"https://colab.research.google.com/assets/colab-badge.svg\" alt=\"Open In Colab\"/></a>"
      ]
    },
    {
      "cell_type": "code",
      "metadata": {
        "id": "oO4qcgY6Iqel",
        "colab_type": "code",
        "colab": {
          "base_uri": "https://localhost:8080/",
          "height": 51
        },
        "outputId": "b8565432-1336-4e0a-f579-f681eb1ed021"
      },
      "source": [
        "import re\n",
        "\n",
        "a = str(input(\"Kata :\"))\n",
        "b = re.findall('[A-Z]', a)\n",
        "\n",
        "print(b)"
      ],
      "execution_count": 29,
      "outputs": [
        {
          "output_type": "stream",
          "text": [
            "Kata :Negara Kesatuan Republik Indonesia\n",
            "['N', 'K', 'R', 'I']\n"
          ],
          "name": "stdout"
        }
      ]
    }
  ]
}