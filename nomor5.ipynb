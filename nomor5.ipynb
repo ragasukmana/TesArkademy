{
  "nbformat": 4,
  "nbformat_minor": 0,
  "metadata": {
    "colab": {
      "name": "nomor5.ipynb",
      "provenance": [],
      "collapsed_sections": [],
      "include_colab_link": true
    },
    "kernelspec": {
      "name": "python3",
      "display_name": "Python 3"
    }
  },
  "cells": [
    {
      "cell_type": "markdown",
      "metadata": {
        "id": "view-in-github",
        "colab_type": "text"
      },
      "source": [
        "<a href=\"https://colab.research.google.com/github/ragasukmana/TesArkademy/blob/master/nomor5.ipynb\" target=\"_parent\"><img src=\"https://colab.research.google.com/assets/colab-badge.svg\" alt=\"Open In Colab\"/></a>"
      ]
    },
    {
      "cell_type": "code",
      "metadata": {
        "id": "VF-gHe6GQm0O",
        "colab_type": "code",
        "colab": {}
      },
      "source": [
        "from collections import Counter\n",
        "import random"
      ],
      "execution_count": 0,
      "outputs": []
    },
    {
      "cell_type": "code",
      "metadata": {
        "id": "o7B26cV2RkEl",
        "colab_type": "code",
        "colab": {
          "base_uri": "https://localhost:8080/",
          "height": 34
        },
        "outputId": "9a8d6753-b062-4cd5-b50e-f3cfb2520717"
      },
      "source": [
        "a = [random.randint(0,20) for i in range(5)]\n",
        "socks = []\n",
        "\n",
        "for k, v in Counter(a).items():\n",
        "    socks.extend([k] * (v // 2))\n",
        "\n",
        "print(\"list : \"+ str(a), \n",
        "      \"hasil : \"+ str(socks))"
      ],
      "execution_count": 33,
      "outputs": [
        {
          "output_type": "stream",
          "text": [
            "list : [16, 15, 16, 16, 8] hasil : [16]\n"
          ],
          "name": "stdout"
        }
      ]
    }
  ]
}