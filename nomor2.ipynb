{
  "nbformat": 4,
  "nbformat_minor": 0,
  "metadata": {
    "colab": {
      "name": "nomor2.ipynb",
      "provenance": [],
      "collapsed_sections": [],
      "include_colab_link": true
    },
    "kernelspec": {
      "name": "python3",
      "display_name": "Python 3"
    }
  },
  "cells": [
    {
      "cell_type": "markdown",
      "metadata": {
        "id": "view-in-github",
        "colab_type": "text"
      },
      "source": [
        "<a href=\"https://colab.research.google.com/github/ragasukmana/TesArkademy/blob/master/nomor2.ipynb\" target=\"_parent\"><img src=\"https://colab.research.google.com/assets/colab-badge.svg\" alt=\"Open In Colab\"/></a>"
      ]
    },
    {
      "cell_type": "code",
      "metadata": {
        "id": "Ex1pxKG2a4WC",
        "colab_type": "code",
        "colab": {}
      },
      "source": [
        "import re"
      ],
      "execution_count": 0,
      "outputs": []
    },
    {
      "cell_type": "code",
      "metadata": {
        "id": "aH94q16fbFSJ",
        "colab_type": "code",
        "colab": {
          "base_uri": "https://localhost:8080/",
          "height": 289
        },
        "outputId": "c7eb57d9-1cd9-4893-b71a-3113917b34db"
      },
      "source": [
        "def username () :\n",
        "  while True:\n",
        "    a = input(\"----->\" + \"Username :\")\n",
        "    if len(a) < 3 :\n",
        "      print(\"Setidaknya 3 huruf\")\n",
        "      continue\n",
        "    elif re.search(\"[A-Z]\", a):\n",
        "      print(\"Harus huruf kecil\")\n",
        "      continue\n",
        "    elif re.search(\"[0-9]\", a):\n",
        "      print(\"Tidak boleh angka\")\n",
        "      continue\n",
        "    elif re.search(\"[~!@#$%^&*()_+]\", a):\n",
        "      print(\"Tidak boleh simbol\")\n",
        "      continue\n",
        "    else :\n",
        "      print('Username OK')\n",
        "      break\n",
        "\n",
        "username()\n",
        "\n",
        "def password () :\n",
        "  while True:\n",
        "    b = input(\"-->\" + \"Password :\")\n",
        "    if not re.search(\"[A-Z]{4,}\", b):\n",
        "      print(\"Setidaknya 4 huruf kapital\")\n",
        "      continue\n",
        "    elif not re.search(\"[-]{1,}\", b):\n",
        "      print(\"Harus menggunakan simbol -\")\n",
        "      continue\n",
        "    elif not re.search(\"[0-9]{3,}\", b):\n",
        "      print(\"Setidaknya 3 angka pada password\")\n",
        "      continue\n",
        "    else:\n",
        "      print(\"Pass OK\")\n",
        "      break\n",
        "    \n",
        "password()"
      ],
      "execution_count": 12,
      "outputs": [
        {
          "output_type": "stream",
          "text": [
            "----->Username :Eka\n",
            "Harus huruf kecil\n",
            "----->Username :ta\n",
            "Setidaknya 3 huruf\n",
            "----->Username :tania197\n",
            "Tidak boleh angka\n",
            "----->Username :tania!que\n",
            "Tidak boleh simbol\n",
            "----->Username :tania\n",
            "Username OK\n",
            "-->Password :021*444DEA\n",
            "Setidaknya 4 huruf kapital\n",
            "-->Password :987-654Oliv\n",
            "Setidaknya 4 huruf kapital\n",
            "-->Password :021-333BUDI\n",
            "Pass OK\n"
          ],
          "name": "stdout"
        }
      ]
    }
  ]
}