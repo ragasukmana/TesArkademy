{
  "nbformat": 4,
  "nbformat_minor": 0,
  "metadata": {
    "colab": {
      "name": "nomor1.ipynb",
      "provenance": [],
      "collapsed_sections": [],
      "include_colab_link": true
    },
    "kernelspec": {
      "name": "python3",
      "display_name": "Python 3"
    }
  },
  "cells": [
    {
      "cell_type": "markdown",
      "metadata": {
        "id": "view-in-github",
        "colab_type": "text"
      },
      "source": [
        "<a href=\"https://colab.research.google.com/github/ragasukmana/TesArkademy/blob/master/nomor1.ipynb\" target=\"_parent\"><img src=\"https://colab.research.google.com/assets/colab-badge.svg\" alt=\"Open In Colab\"/></a>"
      ]
    },
    {
      "cell_type": "code",
      "metadata": {
        "id": "HAI-pkn8UpNi",
        "colab_type": "code",
        "colab": {}
      },
      "source": [
        "import json"
      ],
      "execution_count": 0,
      "outputs": []
    },
    {
      "cell_type": "code",
      "metadata": {
        "id": "-RGlzN6JX92s",
        "colab_type": "code",
        "colab": {
          "base_uri": "https://localhost:8080/",
          "height": 88
        },
        "outputId": "f4e741af-1070-4fa2-9dfc-e88a610088f4"
      },
      "source": [
        "biodata_dict = {\n",
        "    \"name\" : \"Raga Sukmana\", \n",
        "    \"age\" : 22, \n",
        "    \"address\" : \"perum korpri\", \n",
        "    \"Hobbies\" : [\"Gaming, Editing\"], \n",
        "    \"married\" : False, \n",
        "    \"interest in coding\" : True\n",
        "}\n",
        "\n",
        "sekolah_dict = { \n",
        "    \"University\" : 'Telkom University', \n",
        "    \"years in\" : 2015,\n",
        "    \"years out\" : 2019, \n",
        "    \"Major\" : \"Industrial Engineering\"\n",
        "}\n",
        "skill_dict = {\n",
        "    \"name software\" : \"photoshop\",\n",
        "    \"level\" : \"advanced\",\n",
        "    \"name software\" : \"Ms. Office\",\n",
        "    \"level\" : \"Expert\"\n",
        "}\n",
        "\n",
        "bio_json = json.dumps(bio_dict)\n",
        "sekolah_json = json.dumps(sekolah_dict)\n",
        "skill_json = json.dumps(skill_dict)\n",
        "\n",
        "print (biodata_dict)\n",
        "print (sekolah_dict)\n",
        "print (skill_dict)"
      ],
      "execution_count": 10,
      "outputs": [
        {
          "output_type": "stream",
          "text": [
            "{'name': 'Raga Sukmana', 'age': 22, 'address': 'perum korpri', 'Hobbies': ['Gaming, Editing'], 'married': False, 'interest in coding': True}\n",
            "{'University': 'Telkom University', 'years in': 2015, 'years out': 2019, 'Major': 'Industrial Engineering'}\n",
            "{'name software': 'Ms. Office', 'level': 'Expert'}\n"
          ],
          "name": "stdout"
        }
      ]
    }
  ]
}